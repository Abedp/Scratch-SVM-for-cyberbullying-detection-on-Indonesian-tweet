{
  "nbformat": 4,
  "nbformat_minor": 0,
  "metadata": {
    "colab": {
      "name": "Bobot.ipynb",
      "provenance": [],
      "collapsed_sections": [],
      "toc_visible": true
    },
    "kernelspec": {
      "name": "python3",
      "display_name": "Python 3"
    }
  },
  "cells": [
    {
      "cell_type": "code",
      "metadata": {
        "id": "3_c4iOZ36_-s"
      },
      "source": [
        "import csv\n",
        "import pandas as pd\n",
        "import re\n",
        "from Sastrawi.StopWordRemover.StopWordRemoverFactory import StopWordRemoverFactory, StopWordRemover, ArrayDictionary\n",
        "from Sastrawi.Stemmer.StemmerFactory import StemmerFactory\n",
        "import math\n",
        "import numpy as np"
      ],
      "execution_count": null,
      "outputs": []
    },
    {
      "cell_type": "code",
      "metadata": {
        "colab": {
          "base_uri": "https://localhost:8080/"
        },
        "id": "pMRjaUIThmQb",
        "outputId": "8577580f-31d0-4ed4-f390-0ba2c37f0b7e"
      },
      "source": [
        "!pip install Sastrawi"
      ],
      "execution_count": null,
      "outputs": [
        {
          "output_type": "stream",
          "text": [
            "Collecting Sastrawi\n",
            "\u001b[?25l  Downloading https://files.pythonhosted.org/packages/6f/4b/bab676953da3103003730b8fcdfadbdd20f333d4add10af949dd5c51e6ed/Sastrawi-1.0.1-py2.py3-none-any.whl (209kB)\n",
            "\r\u001b[K     |█▋                              | 10kB 11.6MB/s eta 0:00:01\r\u001b[K     |███▏                            | 20kB 10.0MB/s eta 0:00:01\r\u001b[K     |████▊                           | 30kB 8.7MB/s eta 0:00:01\r\u001b[K     |██████▎                         | 40kB 7.3MB/s eta 0:00:01\r\u001b[K     |███████▉                        | 51kB 5.2MB/s eta 0:00:01\r\u001b[K     |█████████▍                      | 61kB 4.9MB/s eta 0:00:01\r\u001b[K     |███████████                     | 71kB 5.5MB/s eta 0:00:01\r\u001b[K     |████████████▌                   | 81kB 5.8MB/s eta 0:00:01\r\u001b[K     |██████████████                  | 92kB 5.7MB/s eta 0:00:01\r\u001b[K     |███████████████▋                | 102kB 6.1MB/s eta 0:00:01\r\u001b[K     |█████████████████▏              | 112kB 6.1MB/s eta 0:00:01\r\u001b[K     |██████████████████▊             | 122kB 6.1MB/s eta 0:00:01\r\u001b[K     |████████████████████▎           | 133kB 6.1MB/s eta 0:00:01\r\u001b[K     |█████████████████████▉          | 143kB 6.1MB/s eta 0:00:01\r\u001b[K     |███████████████████████▍        | 153kB 6.1MB/s eta 0:00:01\r\u001b[K     |█████████████████████████       | 163kB 6.1MB/s eta 0:00:01\r\u001b[K     |██████████████████████████▋     | 174kB 6.1MB/s eta 0:00:01\r\u001b[K     |████████████████████████████▏   | 184kB 6.1MB/s eta 0:00:01\r\u001b[K     |█████████████████████████████▊  | 194kB 6.1MB/s eta 0:00:01\r\u001b[K     |███████████████████████████████▎| 204kB 6.1MB/s eta 0:00:01\r\u001b[K     |████████████████████████████████| 215kB 6.1MB/s \n",
            "\u001b[?25hInstalling collected packages: Sastrawi\n",
            "Successfully installed Sastrawi-1.0.1\n"
          ],
          "name": "stdout"
        }
      ]
    },
    {
      "cell_type": "code",
      "metadata": {
        "colab": {
          "base_uri": "https://localhost:8080/"
        },
        "id": "O40bZjl1ExMy",
        "outputId": "2b5afa62-5536-41d9-86b1-35f7a787ed2e"
      },
      "source": [
        "df = pd.read_excel('../../traindata.xlsx')\n",
        "df.info()\n"
      ],
      "execution_count": null,
      "outputs": [
        {
          "output_type": "stream",
          "text": [
            "<class 'pandas.core.frame.DataFrame'>\n",
            "RangeIndex: 233 entries, 0 to 232\n",
            "Data columns (total 2 columns):\n",
            " #   Column      Non-Null Count  Dtype \n",
            "---  ------      --------------  ----- \n",
            " 0   tweet_text  233 non-null    object\n",
            " 1   Class       233 non-null    int64 \n",
            "dtypes: int64(1), object(1)\n",
            "memory usage: 3.8+ KB\n"
          ],
          "name": "stdout"
        }
      ]
    },
    {
      "cell_type": "code",
      "metadata": {
        "colab": {
          "base_uri": "https://localhost:8080/",
          "height": 419
        },
        "id": "ODEMWZc3Xdmc",
        "outputId": "d3b7a3ab-c397-4f24-ec53-94dd83439561"
      },
      "source": [
        "df"
      ],
      "execution_count": null,
      "outputs": [
        {
          "output_type": "execute_result",
          "data": {
            "text/html": [
              "<div>\n",
              "<style scoped>\n",
              "    .dataframe tbody tr th:only-of-type {\n",
              "        vertical-align: middle;\n",
              "    }\n",
              "\n",
              "    .dataframe tbody tr th {\n",
              "        vertical-align: top;\n",
              "    }\n",
              "\n",
              "    .dataframe thead th {\n",
              "        text-align: right;\n",
              "    }\n",
              "</style>\n",
              "<table border=\"1\" class=\"dataframe\">\n",
              "  <thead>\n",
              "    <tr style=\"text-align: right;\">\n",
              "      <th></th>\n",
              "      <th>tweet_text</th>\n",
              "      <th>Class</th>\n",
              "    </tr>\n",
              "  </thead>\n",
              "  <tbody>\n",
              "    <tr>\n",
              "      <th>0</th>\n",
              "      <td>@hendi_clean @jokowi Lah.. gini aja sekalinya ...</td>\n",
              "      <td>-1</td>\n",
              "    </tr>\n",
              "    <tr>\n",
              "      <th>1</th>\n",
              "      <td>2 MENTERI TERSANGKA KPK BOSSS MALUU @jokowi</td>\n",
              "      <td>-1</td>\n",
              "    </tr>\n",
              "    <tr>\n",
              "      <th>2</th>\n",
              "      <td>@jokowi Kenapa setiap saya baca atau dengar pa...</td>\n",
              "      <td>-1</td>\n",
              "    </tr>\n",
              "    <tr>\n",
              "      <th>3</th>\n",
              "      <td>@kurawa @jokowi Kur, dia mungkin lagi kejar ta...</td>\n",
              "      <td>-1</td>\n",
              "    </tr>\n",
              "    <tr>\n",
              "      <th>4</th>\n",
              "      <td>@Lukmanbunker @AhmadAi36504178 @jokowi Masa ha...</td>\n",
              "      <td>-1</td>\n",
              "    </tr>\n",
              "    <tr>\n",
              "      <th>...</th>\n",
              "      <td>...</td>\n",
              "      <td>...</td>\n",
              "    </tr>\n",
              "    <tr>\n",
              "      <th>228</th>\n",
              "      <td>@TofaTofa_id @jokowi yg mengganas habis tangka...</td>\n",
              "      <td>-1</td>\n",
              "    </tr>\n",
              "    <tr>\n",
              "      <th>229</th>\n",
              "      <td>BANGSAT! @KemenBUMN @KemenkesRI @jokowi @eric...</td>\n",
              "      <td>-1</td>\n",
              "    </tr>\n",
              "    <tr>\n",
              "      <th>230</th>\n",
              "      <td>@Yatie84991237 @kulispiselo @tanca_ra @ganefri...</td>\n",
              "      <td>-1</td>\n",
              "    </tr>\n",
              "    <tr>\n",
              "      <th>231</th>\n",
              "      <td>Yg lain sulit hidup tanpa teknologi hanya si ...</td>\n",
              "      <td>-1</td>\n",
              "    </tr>\n",
              "    <tr>\n",
              "      <th>232</th>\n",
              "      <td>@idtodayco Heran kenapa sih para aparat di zam...</td>\n",
              "      <td>-1</td>\n",
              "    </tr>\n",
              "  </tbody>\n",
              "</table>\n",
              "<p>233 rows × 2 columns</p>\n",
              "</div>"
            ],
            "text/plain": [
              "                                            tweet_text  Class\n",
              "0    @hendi_clean @jokowi Lah.. gini aja sekalinya ...     -1\n",
              "1          2 MENTERI TERSANGKA KPK BOSSS MALUU @jokowi     -1\n",
              "2    @jokowi Kenapa setiap saya baca atau dengar pa...     -1\n",
              "3    @kurawa @jokowi Kur, dia mungkin lagi kejar ta...     -1\n",
              "4    @Lukmanbunker @AhmadAi36504178 @jokowi Masa ha...     -1\n",
              "..                                                 ...    ...\n",
              "228  @TofaTofa_id @jokowi yg mengganas habis tangka...     -1\n",
              "229   BANGSAT! @KemenBUMN @KemenkesRI @jokowi @eric...     -1\n",
              "230  @Yatie84991237 @kulispiselo @tanca_ra @ganefri...     -1\n",
              "231   Yg lain sulit hidup tanpa teknologi hanya si ...     -1\n",
              "232  @idtodayco Heran kenapa sih para aparat di zam...     -1\n",
              "\n",
              "[233 rows x 2 columns]"
            ]
          },
          "metadata": {
            "tags": []
          },
          "execution_count": 23
        }
      ]
    },
    {
      "cell_type": "code",
      "metadata": {
        "colab": {
          "base_uri": "https://localhost:8080/"
        },
        "id": "XZIKkgKSzzUO",
        "outputId": "21fa4e29-0301-4c43-c171-5f0e13c6f186"
      },
      "source": [
        "df1 = pd.read_excel('../../testdata.xlsx')\n",
        "df1.info()"
      ],
      "execution_count": null,
      "outputs": [
        {
          "output_type": "stream",
          "text": [
            "<class 'pandas.core.frame.DataFrame'>\n",
            "RangeIndex: 104 entries, 0 to 103\n",
            "Data columns (total 2 columns):\n",
            " #   Column      Non-Null Count  Dtype \n",
            "---  ------      --------------  ----- \n",
            " 0   tweet_text  104 non-null    object\n",
            " 1   Class       104 non-null    int64 \n",
            "dtypes: int64(1), object(1)\n",
            "memory usage: 1.8+ KB\n"
          ],
          "name": "stdout"
        }
      ]
    },
    {
      "cell_type": "code",
      "metadata": {
        "colab": {
          "base_uri": "https://localhost:8080/",
          "height": 419
        },
        "id": "sy40z-C0YiLj",
        "outputId": "c071b173-0eda-4678-cedd-041142285f64"
      },
      "source": [
        "df1"
      ],
      "execution_count": null,
      "outputs": [
        {
          "output_type": "execute_result",
          "data": {
            "text/html": [
              "<div>\n",
              "<style scoped>\n",
              "    .dataframe tbody tr th:only-of-type {\n",
              "        vertical-align: middle;\n",
              "    }\n",
              "\n",
              "    .dataframe tbody tr th {\n",
              "        vertical-align: top;\n",
              "    }\n",
              "\n",
              "    .dataframe thead th {\n",
              "        text-align: right;\n",
              "    }\n",
              "</style>\n",
              "<table border=\"1\" class=\"dataframe\">\n",
              "  <thead>\n",
              "    <tr style=\"text-align: right;\">\n",
              "      <th></th>\n",
              "      <th>tweet_text</th>\n",
              "      <th>Class</th>\n",
              "    </tr>\n",
              "  </thead>\n",
              "  <tbody>\n",
              "    <tr>\n",
              "      <th>0</th>\n",
              "      <td>@faizalassegaf @jokowi Hehehe.....  Menurutku ...</td>\n",
              "      <td>1</td>\n",
              "    </tr>\n",
              "    <tr>\n",
              "      <th>1</th>\n",
              "      <td>@fadjroeL @jokowi @aniesbaswedan Cuitanmu sang...</td>\n",
              "      <td>-1</td>\n",
              "    </tr>\n",
              "    <tr>\n",
              "      <th>2</th>\n",
              "      <td>@Dennysiregar7 @jokowi Kalau diam..bilang lema...</td>\n",
              "      <td>-1</td>\n",
              "    </tr>\n",
              "    <tr>\n",
              "      <th>3</th>\n",
              "      <td>@PSI_Jakarta @jokowi Halahhhh... Goblok ngeles...</td>\n",
              "      <td>-1</td>\n",
              "    </tr>\n",
              "    <tr>\n",
              "      <th>4</th>\n",
              "      <td>@Ard1nawan @josuwa11147411 @rha_tjoensimatu @j...</td>\n",
              "      <td>-1</td>\n",
              "    </tr>\n",
              "    <tr>\n",
              "      <th>...</th>\n",
              "      <td>...</td>\n",
              "      <td>...</td>\n",
              "    </tr>\n",
              "    <tr>\n",
              "      <th>99</th>\n",
              "      <td>@jokowi Semoga sehat selalu Pak @jokowi dan se...</td>\n",
              "      <td>1</td>\n",
              "    </tr>\n",
              "    <tr>\n",
              "      <th>100</th>\n",
              "      <td>@jokowi makasih bapak Jokowi yang sudah meluan...</td>\n",
              "      <td>1</td>\n",
              "    </tr>\n",
              "    <tr>\n",
              "      <th>101</th>\n",
              "      <td>@N0N4m3_90 Dasar manusia pembawa sial!!!!!! @...</td>\n",
              "      <td>-1</td>\n",
              "    </tr>\n",
              "    <tr>\n",
              "      <th>102</th>\n",
              "      <td>Semoga selalu menjadi yang terbaik dan terdepa...</td>\n",
              "      <td>1</td>\n",
              "    </tr>\n",
              "    <tr>\n",
              "      <th>103</th>\n",
              "      <td>Torehan prestasi terbaik yang diraih Kemendes ...</td>\n",
              "      <td>1</td>\n",
              "    </tr>\n",
              "  </tbody>\n",
              "</table>\n",
              "<p>104 rows × 2 columns</p>\n",
              "</div>"
            ],
            "text/plain": [
              "                                            tweet_text  Class\n",
              "0    @faizalassegaf @jokowi Hehehe.....  Menurutku ...      1\n",
              "1    @fadjroeL @jokowi @aniesbaswedan Cuitanmu sang...     -1\n",
              "2    @Dennysiregar7 @jokowi Kalau diam..bilang lema...     -1\n",
              "3    @PSI_Jakarta @jokowi Halahhhh... Goblok ngeles...     -1\n",
              "4    @Ard1nawan @josuwa11147411 @rha_tjoensimatu @j...     -1\n",
              "..                                                 ...    ...\n",
              "99   @jokowi Semoga sehat selalu Pak @jokowi dan se...      1\n",
              "100  @jokowi makasih bapak Jokowi yang sudah meluan...      1\n",
              "101   @N0N4m3_90 Dasar manusia pembawa sial!!!!!! @...     -1\n",
              "102  Semoga selalu menjadi yang terbaik dan terdepa...      1\n",
              "103  Torehan prestasi terbaik yang diraih Kemendes ...      1\n",
              "\n",
              "[104 rows x 2 columns]"
            ]
          },
          "metadata": {
            "tags": []
          },
          "execution_count": 25
        }
      ]
    },
    {
      "cell_type": "code",
      "metadata": {
        "id": "AxxIe5OMFtnx"
      },
      "source": [
        "class data:\n",
        "  \n",
        "  def __init__ (self, text, val = 0) :\n",
        "    self.text = text\n",
        "    self.val = val\n"
      ],
      "execution_count": null,
      "outputs": []
    },
    {
      "cell_type": "code",
      "metadata": {
        "id": "h7xkM0Nyu5aA"
      },
      "source": [
        "stopwords = ['a','ada','adalah','adanya','adapun','agak','agaknya','agar','akan','akankah','akhir',\n",
        "            'akhiri','akhirnya','aku','akulah','amat','amatlah','anda','andalah','antar','antara',\n",
        "            'antaranya','apa','apaan','apabila','apakah','apalagi','apatah','arti','artinya','asal',\n",
        "            'asalkan','atas','atau','ataukah','ataupun','awal','awalnya','b','bagai','bagaikan',\n",
        "            'bagaimana','bagaimanakah','bagaimanapun','bagainamakah','bagi','bagian','bahkan','bahwa',\n",
        "            'bahwasannya','bahwasanya','baik','baiklah','bakal','bakalan','balik','banyak','bapak',\n",
        "            'baru','bawah','beberapa','begini','beginian','beginikah','beginilah','begitu','begitukah',\n",
        "            'begitulah','begitupun','bekerja','belakang','belakangan','belum','belumlah','benar',\n",
        "            'benarkah','benarlah','berada','berakhir','berakhirlah','berakhirnya','berapa','berapakah',\n",
        "            'berapalah','berapapun','berarti','berawal','berbagai','berdatangan','beri','berikan',\n",
        "            'berikut','berikutnya','berjumlah','berkali-kali','berkata','berkehendak','berkeinginan',\n",
        "            'berkenaan','berlainan','berlalu','berlangsung','berlebihan','bermacam','bermacam-macam',\n",
        "            'bermaksud','bermula','bersama','bersama-sama','bersiap','bersiap-siap','bertanya',\n",
        "            'bertanya-tanya','berturut','berturut-turut','bertutur','berujar','berupa','besar',\n",
        "            'betul','betulkah','biasa','biasanya','bila','bilakah','bisa','bisakah','boleh','bolehkah',\n",
        "            'bolehlah','buat','bukan','bukankah','bukanlah','bukannya','bulan','bung','c','cara',\n",
        "            'caranya','cukup','cukupkah','cukuplah','cuma','d','dahulu','dalam','dan','dapat','dari',\n",
        "            'daripada','datang','dekat','demi','demikian','demikianlah','dengan','depan','di','dia',\n",
        "            'diakhiri','diakhirinya','dialah','diantara','diantaranya','diberi','diberikan','diberikannya',\n",
        "            'dibuat','dibuatnya','didapat','didatangkan','digunakan','diibaratkan','diibaratkannya',\n",
        "            'diingat','diingatkan','diinginkan','dijawab','dijelaskan','dijelaskannya','dikarenakan',\n",
        "            'dikatakan','dikatakannya','dikerjakan','diketahui','diketahuinya','dikira','dilakukan',\n",
        "            'dilalui','dilihat','dimaksud','dimaksudkan','dimaksudkannya','dimaksudnya','diminta',\n",
        "            'dimintai','dimisalkan','dimulai','dimulailah','dimulainya','dimungkinkan','dini','dipastikan',\n",
        "            'diperbuat','diperbuatnya','dipergunakan','diperkirakan','diperlihatkan','diperlukan',\n",
        "            'diperlukannya','dipersoalkan','dipertanyakan','dipunyai','diri','dirinya','disampaikan',\n",
        "            'disebut','disebutkan','disebutkannya','disini','disinilah','ditambahkan','ditandaskan',\n",
        "            'ditanya','ditanyai','ditanyakan','ditegaskan','ditujukan','ditunjuk','ditunjuki','ditunjukkan',\n",
        "            'ditunjukkannya','ditunjuknya','dituturkan','dituturkannya','diucapkan','diucapkannya',\n",
        "            'diungkapkan','dong','dua','dulu','e','empat','enak','enggak','enggaknya','entah','entahlah',\n",
        "            'f','g','guna','gunakan','h','hadap','hai','hal','halo','hallo','hampir','hanya','hanyalah',\n",
        "            'hari','harus','haruslah','harusnya','helo','hello','hendak','hendaklah','hendaknya','hingga',\n",
        "            'i','ia','ialah','ibarat','ibaratkan','ibaratnya','ibu','ikut','ingat','ingat-ingat','ingin',\n",
        "            'inginkah','inginkan','ini','inikah','inilah','itu','itukah','itulah','j','jadi','jadilah',\n",
        "            'jadinya','jangan','jangankan','janganlah','jauh','jawab','jawaban','jawabnya','jelas',\n",
        "            'jelaskan','jelaslah','jelasnya','jika','jikalau','juga','jumlah','jumlahnya','justru',\n",
        "            'k','kadar','kala','kalau','kalaulah','kalaupun','kali','kalian','kami','kamilah','kamu',\n",
        "            'kamulah','kan','kapan','kapankah','kapanpun','karena','karenanya','kasus','kata','katakan',\n",
        "            'katakanlah','katanya','ke','keadaan','kebetulan','kecil','kedua','keduanya','keinginan',\n",
        "            'kelamaan','kelihatan','kelihatannya','kelima','keluar','kembali','kemudian','kemungkinan',\n",
        "            'kemungkinannya','kena','kenapa','kepada','kepadanya','kerja','kesampaian','keseluruhan',\n",
        "            'keseluruhannya','keterlaluan','ketika','khusus','khususnya','kini','kinilah','kira',\n",
        "            'kira-kira','kiranya','kita','kitalah','kok','kurang','l','lagi','lagian','lah','lain',\n",
        "            'lainnya','laku','lalu','lama','lamanya','langsung','lanjut','lanjutnya','lebih','lewat',\n",
        "            'lihat','lima','luar','m','macam','maka','makanya','makin','maksud','malah','malahan',\n",
        "            'mampu','mampukah','mana','manakala','manalagi','masa','masalah','masalahnya','masih',\n",
        "            'masihkah','masing','masing-masing','masuk','mata','mau','maupun','melainkan','melakukan',\n",
        "            'melalui','melihat','melihatnya','memang','memastikan','memberi','memberikan','membuat',\n",
        "            'memerlukan','memihak','meminta','memintakan','memisalkan','memperbuat','mempergunakan',\n",
        "            'memperkirakan','memperlihatkan','mempersiapkan','mempersoalkan','mempertanyakan','mempunyai',\n",
        "            'memulai','memungkinkan','menaiki','menambahkan','menandaskan','menanti','menanti-nanti',\n",
        "            'menantikan','menanya','menanyai','menanyakan','mendapat','mendapatkan','mendatang','mendatangi',\n",
        "            'mendatangkan','menegaskan','mengakhiri','mengapa','mengatakan','mengatakannya','mengenai',\n",
        "            'mengerjakan','mengetahui','menggunakan','menghendaki','mengibaratkan','mengibaratkannya',\n",
        "            'mengingat','mengingatkan','menginginkan','mengira','mengucapkan','mengucapkannya','mengungkapkan',\n",
        "            'menjadi','menjawab','menjelaskan','menuju','menunjuk','menunjuki','menunjukkan','menunjuknya',\n",
        "            'menurut','menuturkan','menyampaikan','menyangkut','menyatakan','menyebutkan','menyeluruh',\n",
        "            'menyiapkan','merasa','mereka','merekalah','merupakan','meski','meskipun','meyakini','meyakinkan',\n",
        "            'minta','mirip','misal','misalkan','misalnya','mohon','mula','mulai','mulailah','mulanya','mungkin',\n",
        "            'mungkinkah','n','nah','naik','namun','nanti','nantinya','nya','nyaris','nyata','nyatanya',\n",
        "            'o','oleh','olehnya','orang','p','pada','padahal','padanya','pak','paling','panjang','pantas',\n",
        "            'para','pasti','pastilah','penting','pentingnya','per','percuma','perlu','perlukah','perlunya',\n",
        "            'pernah','persoalan','pertama','pertama-tama','pertanyaan','pertanyakan','pihak','pihaknya',\n",
        "            'pukul','pula','pun','punya','q','r','rasa','rasanya','rupa','rupanya','s','saat','saatnya','saja',\n",
        "            'sajalah','salam','saling','sama','sama-sama','sambil','sampai','sampai-sampai','sampaikan','sana',\n",
        "            'sangat','sangatlah','sangkut','satu','saya','sayalah','se','sebab','sebabnya','sebagai',\n",
        "            'sebagaimana','sebagainya','sebagian','sebaik','sebaik-baiknya','sebaiknya','sebaliknya',\n",
        "            'sebanyak','sebegini','sebegitu','sebelum','sebelumnya','sebenarnya','seberapa','sebesar',\n",
        "            'sebetulnya','sebisanya','sebuah','sebut','sebutlah','sebutnya','secara','secukupnya','sedang',\n",
        "            'sedangkan','sedemikian','sedikit','sedikitnya','seenaknya','segala','segalanya','segera',\n",
        "            'seharusnya','sehingga','seingat','sejak','sejauh','sejenak','sejumlah','sekadar','sekadarnya',\n",
        "            'sekali','sekali-kali','sekalian','sekaligus','sekalipun','sekarang','sekaranglah','sekecil',\n",
        "            'seketika','sekiranya','sekitar','sekitarnya','sekurang-kurangnya','sekurangnya','sela','selain',\n",
        "            'selaku','selalu','selama','selama-lamanya','selamanya','selanjutnya','seluruh','seluruhnya',\n",
        "            'semacam','semakin','semampu','semampunya','semasa','semasih','semata','semata-mata','semaunya',\n",
        "            'sementara','semisal','semisalnya','sempat','semua','semuanya','semula','sendiri','sendirian',\n",
        "            'sendirinya','seolah','seolah-olah','seorang','sepanjang','sepantasnya','sepantasnyalah',\n",
        "            'seperlunya','seperti','sepertinya','sepihak','sering','seringnya','serta','serupa','sesaat',\n",
        "            'sesama','sesampai','sesegera','sesekali','seseorang','sesuatu','sesuatunya','sesudah',\n",
        "            'sesudahnya','setelah','setempat','setengah','seterusnya','setiap','setiba','setibanya',\n",
        "            'setidak-tidaknya','setidaknya','setinggi','seusai','sewaktu','siap','siapa','siapakah',\n",
        "            'siapapun','sini','sinilah','soal','soalnya','suatu','sudah','sudahkah','sudahlah','supaya',\n",
        "            't','tadi','tadinya','tahu','tak','tambah','tambahnya','tampak','tampaknya','tandas','tandasnya',\n",
        "            'tanpa','tanya','tanyakan','tanyanya','tapi','tegas','tegasnya','telah','tempat','tentang','tentu',\n",
        "            'tentulah','tentunya','tepat','terakhir','terasa','terbanyak','terdahulu','terdapat','terdiri',\n",
        "            'terhadap','terhadapnya','teringat','teringat-ingat','terjadi','terjadilah','terjadinya','terkira',\n",
        "            'terlalu','terlebih','terlihat','termasuk','ternyata','tersampaikan','tersebut','tersebutlah',\n",
        "            'tertentu','tertuju','terus','terutama','tetap','tetapi','tiap','tiba','tiba-tiba','tidak',\n",
        "            'tidakkah','tidaklah','tiga','toh','tuju','tunjuk','turut','tutur','tuturnya','u','ucap','ucapnya',\n",
        "            'ujar','ujarnya','umumnya','ungkap','ungkapnya','untuk','usah','usai','v','w','waduh','wah','wahai',\n",
        "            'waktunya','walau','walaupun','wong','x','y','ya','yaitu','yakin','yakni','yang', 'yg','z', 'amp', 'jokowi']"
      ],
      "execution_count": null,
      "outputs": []
    },
    {
      "cell_type": "code",
      "metadata": {
        "id": "yaw6ShIZHrZc"
      },
      "source": [
        "train =[]\n",
        "\n",
        "for row in range(len(df)):\n",
        "  train.append(data(df.tweet_text[row], df.Class[row]))"
      ],
      "execution_count": null,
      "outputs": []
    },
    {
      "cell_type": "code",
      "metadata": {
        "id": "fjGsKgyW2p1r"
      },
      "source": [
        "test =[]\n",
        "\n",
        "for row in range(len(df1)):\n",
        "  test.append(data(df1.tweet_text[row]))"
      ],
      "execution_count": null,
      "outputs": []
    },
    {
      "cell_type": "code",
      "metadata": {
        "colab": {
          "base_uri": "https://localhost:8080/"
        },
        "id": "_NUIuI1aFAmW",
        "outputId": "75ca78a8-a39a-473c-c96e-94414595b274"
      },
      "source": [
        "test[0].val "
      ],
      "execution_count": null,
      "outputs": [
        {
          "output_type": "execute_result",
          "data": {
            "text/plain": [
              "0"
            ]
          },
          "metadata": {
            "tags": []
          },
          "execution_count": 74
        }
      ]
    },
    {
      "cell_type": "code",
      "metadata": {
        "id": "30P1nFP9JfFK"
      },
      "source": [
        "def cleaning(text):\n",
        "  cleaned = []\n",
        "  for i in range(len(text)):\n",
        "    text[i] = re.sub (r\"http\\S+\", \" \", text[i])\n",
        "    temp = re.sub (r\"([^a-zA-Z]+)\", \" \" , text[i])\n",
        "    cleaned.append(temp)\n",
        "  return cleaned\n"
      ],
      "execution_count": null,
      "outputs": []
    },
    {
      "cell_type": "code",
      "metadata": {
        "id": "Fhl0gK4MeRs-"
      },
      "source": [
        "def casefolding(text):\n",
        "  foldedcase = []\n",
        "  for i in text:\n",
        "    temp = i.lower()\n",
        "    foldedcase.append(temp)\n",
        "  return foldedcase"
      ],
      "execution_count": null,
      "outputs": []
    },
    {
      "cell_type": "code",
      "metadata": {
        "id": "2IvXZsZpfOJL"
      },
      "source": [
        "def token(text):\n",
        "  token = []\n",
        "  for i in text:\n",
        "    temp = i.split()\n",
        "    token.append(temp)\n",
        "  return token"
      ],
      "execution_count": null,
      "outputs": []
    },
    {
      "cell_type": "code",
      "metadata": {
        "id": "ad9ONaaUg5NA"
      },
      "source": [
        "def filtering(text, stopwords):\n",
        "  filtered = []\n",
        "  for i in range(len(text)):\n",
        "    temp = []\n",
        "    for token in text[i]:\n",
        "      if token not in stopwords:\n",
        "        temp.append(token)\n",
        "    filtered.append(temp)\n",
        "  return filtered"
      ],
      "execution_count": null,
      "outputs": []
    },
    {
      "cell_type": "code",
      "metadata": {
        "id": "lpJB1BDEjlLX"
      },
      "source": [
        "def stemming(text, stemmer):\n",
        "\n",
        "  for i in range(len(text)):\n",
        "    for token in range(len(text[i])):\n",
        "      text[i][token] =stemmer.stem(text[i][token])\n",
        "\n",
        "  return text"
      ],
      "execution_count": null,
      "outputs": []
    },
    {
      "cell_type": "code",
      "metadata": {
        "id": "q3N7dW4vTmP1"
      },
      "source": [
        "def preprocessing(data):\n",
        "  text = []\n",
        "  factory = StemmerFactory()\n",
        "  stemmer = factory.create_stemmer()\n",
        "  for i in range(len(data)):\n",
        "    text.append(data[i].text)\n",
        "  clean = cleaning(text)\n",
        "  casefold = casefolding(clean)\n",
        "  tokenize = token(casefold)\n",
        "  filtered = filtering(tokenize, stopwords)\n",
        "  stemm = stemming(filtered, stemmer)\n",
        "  return stemm"
      ],
      "execution_count": null,
      "outputs": []
    },
    {
      "cell_type": "code",
      "metadata": {
        "id": "97-kgJF3ioyf"
      },
      "source": [
        "def preprocesslex(data):\n",
        "  text = []\n",
        "  factory = StemmerFactory()\n",
        "  stemmer = factory.create_stemmer()\n",
        "  for i in range(len(data)):\n",
        "    text.append(data[i].text)\n",
        "  clean = cleaning(text)\n",
        "  casefold = casefolding(clean)\n",
        "  tokenize = token(casefold)\n",
        "  return tokenize"
      ],
      "execution_count": null,
      "outputs": []
    },
    {
      "cell_type": "code",
      "metadata": {
        "id": "30TGGUU5oO4-"
      },
      "source": [
        "hasiltest = preprocessing(test)"
      ],
      "execution_count": null,
      "outputs": []
    },
    {
      "cell_type": "code",
      "metadata": {
        "id": "np60sSo93Dlb"
      },
      "source": [
        "hasiltest"
      ],
      "execution_count": null,
      "outputs": []
    },
    {
      "cell_type": "code",
      "metadata": {
        "id": "j879lX7eknsK"
      },
      "source": [
        "hasiltrain = preprocessing(train)"
      ],
      "execution_count": null,
      "outputs": []
    },
    {
      "cell_type": "code",
      "metadata": {
        "id": "nz_eAp6X3lK0"
      },
      "source": [
        "hasiltrain"
      ],
      "execution_count": null,
      "outputs": []
    },
    {
      "cell_type": "code",
      "metadata": {
        "id": "NiYWjUFMivCp"
      },
      "source": [
        "lex = train+test\n",
        "doc_tweet = preprocesslex(lex)"
      ],
      "execution_count": null,
      "outputs": []
    },
    {
      "cell_type": "code",
      "metadata": {
        "id": "4Az0Q4Aoa2SE"
      },
      "source": [
        "def fitur_list(text):\n",
        "  fitur =[]\n",
        "\n",
        "  for token in text:\n",
        "    for w in token:\n",
        "      if w not in fitur:\n",
        "        fitur.append(w)\n",
        "  return fitur"
      ],
      "execution_count": null,
      "outputs": []
    },
    {
      "cell_type": "code",
      "metadata": {
        "id": "wjlsEBXUjb-t"
      },
      "source": [
        "def termfreq(fitur, text):\n",
        "  termfreq = []\n",
        "  \n",
        "  for term in fitur:\n",
        "    temp = []\n",
        "    for doc in text:\n",
        "      temp.append(doc.count(term))\n",
        "    termfreq.append(temp)\n",
        "  return termfreq\n",
        "      "
      ],
      "execution_count": null,
      "outputs": []
    },
    {
      "cell_type": "code",
      "metadata": {
        "id": "CW6X3kk1CHVU"
      },
      "source": [
        "def weightTF(termfreq):\n",
        "  weight_tf = []\n",
        "  for i in range(len(termfreq)):\n",
        "    temp = []\n",
        "    for n in range(len(termfreq[i])):\n",
        "      wtf = 0\n",
        "      if termfreq[i][n]>0:\n",
        "        wtf = 1+ math.log10(termfreq[i][n])\n",
        "      else:\n",
        "        wtf = 0\n",
        "      temp.append(wtf)\n",
        "    weight_tf.append(temp)\n",
        "  return weight_tf\n",
        "\n"
      ],
      "execution_count": null,
      "outputs": []
    },
    {
      "cell_type": "code",
      "metadata": {
        "id": "yKVeb56-EKfa"
      },
      "source": [
        "def idf(weightedTF):\n",
        "  df = []\n",
        "  idf = []\n",
        "  for i in range(len(weightedTF)):\n",
        "    temp = 0\n",
        "    for j in range(len(weightedTF[i])): \n",
        "      if weightedTF[i][j] > 0:\n",
        "        temp +=1\n",
        "    df.append(temp)\n",
        "  for i in range(len(df)):\n",
        "    temp = math.log10((len(weightedTF[i])/df[i]))\n",
        "    idf.append(temp)\n",
        "  return idf"
      ],
      "execution_count": null,
      "outputs": []
    },
    {
      "cell_type": "code",
      "metadata": {
        "id": "mpGhdib14doE"
      },
      "source": [
        "def tf_idf(idf, weightedTF):\n",
        "  tfidf = []\n",
        "  for i in range(len(idf)):\n",
        "    tf_idf = []\n",
        "    for j in range(len(weightedTF[i])):\n",
        "      if weightedTF[i][j]>0:\n",
        "        temp = idf[i] * weightedTF[i][j]\n",
        "        tf_idf.append(temp)\n",
        "      else:\n",
        "        tf_idf.append(0)\n",
        "    tfidf.append(tf_idf)\n",
        "  return tfidf"
      ],
      "execution_count": null,
      "outputs": []
    },
    {
      "cell_type": "code",
      "metadata": {
        "id": "dTno_s_nPvVp"
      },
      "source": [
        "def tfidf(train, test):\n",
        "  fitur = fitur_list(train)\n",
        "  fitur1 = fitur_list(test)\n",
        "  termfrequency = termfreq(fitur, train)\n",
        "  termfrequency1 = termfreq(fitur1, test)\n",
        "  wtf = weightTF(termfrequency)\n",
        "  wtf1 = weightTF(termfrequency1)\n",
        "  hasil_idf = idf(wtf)\n",
        "  for i in range(len(fitur)):\n",
        "    for j in range(len(wtf1[1])):\n",
        "      if fitur[i] in fitur1:\n",
        "        index = fitur1.index(fitur[i])\n",
        "        wtf[i].append(wtf1[index][j])\n",
        "      else:\n",
        "        wtf[i].append(0)\n",
        "  bobot_docs = tf_idf(hasil_idf, wtf)\n",
        "  return bobot_docs"
      ],
      "execution_count": null,
      "outputs": []
    },
    {
      "cell_type": "code",
      "metadata": {
        "id": "omH9anIlQz0i"
      },
      "source": [
        "tfidff = tfidf(hasiltrain, hasiltest)"
      ],
      "execution_count": null,
      "outputs": []
    },
    {
      "cell_type": "code",
      "metadata": {
        "id": "gtc7p46VReVt",
        "colab": {
          "base_uri": "https://localhost:8080/"
        },
        "outputId": "92e76bed-f0cb-4fe4-e39b-a38627b6c260"
      },
      "source": [
        "len(tfidff)"
      ],
      "execution_count": null,
      "outputs": [
        {
          "output_type": "execute_result",
          "data": {
            "text/plain": [
              "1724"
            ]
          },
          "metadata": {
            "tags": []
          },
          "execution_count": 48
        }
      ]
    },
    {
      "cell_type": "code",
      "metadata": {
        "id": "0qwgmZwjAxPn"
      },
      "source": [
        "boosterwords = ['abis', 'agak', 'amat', 'bangat', 'banget', 'beberapa', 'benar-benar', 'betul-betul', \n",
        "                'hanya', 'jauh', 'kadang-kadang', 'kali', 'kira-kira', 'kurang', 'lebih', 'mending', \n",
        "                'mungkin', 'paling', 'pasti', 'sangat', 'seakan-akan', 'sedikit', 'sekali', 'semakin', \n",
        "                'sempurna', 'sungguh', 'tambah', 'telak', 'terkadang', 'terlalu', 'terus-terusan', 'ter'\n",
        "]"
      ],
      "execution_count": null,
      "outputs": []
    },
    {
      "cell_type": "code",
      "metadata": {
        "id": "mK0SLjVfFVp8"
      },
      "source": [
        "def booster(text, booster_list):\n",
        "  f1 = []\n",
        "  for i in range(len(text)):\n",
        "    temp = 0\n",
        "    for n in text[i]:\n",
        "      if n in booster_list:\n",
        "        temp +=1\n",
        "    f1.append(temp)\n",
        "  return f1"
      ],
      "execution_count": null,
      "outputs": []
    },
    {
      "cell_type": "code",
      "metadata": {
        "colab": {
          "base_uri": "https://localhost:8080/"
        },
        "id": "VmtzTOEsHs9d",
        "outputId": "17555727-57e5-4dcb-bb54-23da1ef24d11"
      },
      "source": [
        "df3 = pd.read_excel('../../PositiveWords.xlsx')\n",
        "df3.info()\n",
        "df4 = pd.read_excel('../../NegativeWords.xlsx')\n",
        "df4.info()"
      ],
      "execution_count": null,
      "outputs": [
        {
          "output_type": "stream",
          "text": [
            "<class 'pandas.core.frame.DataFrame'>\n",
            "RangeIndex: 1678 entries, 0 to 1677\n",
            "Data columns (total 1 columns):\n",
            " #   Column  Non-Null Count  Dtype \n",
            "---  ------  --------------  ----- \n",
            " 0   text    1678 non-null   object\n",
            "dtypes: object(1)\n",
            "memory usage: 13.2+ KB\n",
            "<class 'pandas.core.frame.DataFrame'>\n",
            "RangeIndex: 3829 entries, 0 to 3828\n",
            "Data columns (total 1 columns):\n",
            " #   Column  Non-Null Count  Dtype \n",
            "---  ------  --------------  ----- \n",
            " 0   text    3829 non-null   object\n",
            "dtypes: object(1)\n",
            "memory usage: 30.0+ KB\n"
          ],
          "name": "stdout"
        }
      ]
    },
    {
      "cell_type": "code",
      "metadata": {
        "id": "3shRjZQUTpe4"
      },
      "source": [
        "kamuspos =[]\n",
        "\n",
        "for row in range(len(df3)):\n",
        "  kamuspos.append(df3.text[row])\n",
        "\n",
        "kamusneg =[]\n",
        "\n",
        "for row in range(len(df4)):\n",
        "  kamusneg.append(df4.text[row])"
      ],
      "execution_count": null,
      "outputs": []
    },
    {
      "cell_type": "code",
      "metadata": {
        "id": "WDstgG06CZXE"
      },
      "source": [
        "def posneg(text, kamus_positif, kamus_negatif):\n",
        "  f2 = []\n",
        "  f3 = []\n",
        "  for i in range(len(text)):\n",
        "    temp1 = 0\n",
        "    temp2 = 0\n",
        "    for n in text[i]:\n",
        "      if n in kamus_positif:\n",
        "        temp1 +=1\n",
        "      if n in kamus_negatif:\n",
        "        temp2 +=1\n",
        "    f2.append(temp1)\n",
        "    f3.append(temp2)\n",
        "  return f2,f3\n"
      ],
      "execution_count": null,
      "outputs": []
    },
    {
      "cell_type": "code",
      "metadata": {
        "colab": {
          "base_uri": "https://localhost:8080/"
        },
        "id": "sHUAu9QHYmZC",
        "outputId": "8b11eca9-d351-4684-8bf9-ab8ce4048aad"
      },
      "source": [
        "df5 = pd.read_csv('../../kbbi.csv', encoding = 'unicode_escape', engine ='python')\n",
        "df5.info()"
      ],
      "execution_count": null,
      "outputs": [
        {
          "output_type": "stream",
          "text": [
            "<class 'pandas.core.frame.DataFrame'>\n",
            "RangeIndex: 28526 entries, 0 to 28525\n",
            "Data columns (total 2 columns):\n",
            " #   Column  Non-Null Count  Dtype \n",
            "---  ------  --------------  ----- \n",
            " 0   kata    28525 non-null  object\n",
            " 1   jenis   28526 non-null  object\n",
            "dtypes: object(2)\n",
            "memory usage: 445.8+ KB\n"
          ],
          "name": "stdout"
        }
      ]
    },
    {
      "cell_type": "code",
      "metadata": {
        "id": "lvLMvP-VPWea"
      },
      "source": [
        "def adjposneg(text, kamuspos, kamusneg, kbbi_list):\n",
        "  f4 = []\n",
        "  f5 = []\n",
        "  for i in range(len(text)):\n",
        "    temp1 = 0\n",
        "    temp2 = 0\n",
        "    for n in text[i]:\n",
        "      if n in kbbi_list:\n",
        "        if kbbi_list[n] == 'Adjektiva':\n",
        "          if n in kamuspos:\n",
        "            temp1 += 1\n",
        "          if n in kamusneg:\n",
        "            temp2 += 1\n",
        "    f4.append(temp1)\n",
        "    f5.append(temp2)\n",
        "  return f4,f5\n"
      ],
      "execution_count": null,
      "outputs": []
    },
    {
      "cell_type": "code",
      "metadata": {
        "id": "DfzFzuIxPgL1"
      },
      "source": [
        "kbbi = df5.set_index('kata')['jenis'].T.to_dict()"
      ],
      "execution_count": null,
      "outputs": []
    },
    {
      "cell_type": "code",
      "metadata": {
        "colab": {
          "base_uri": "https://localhost:8080/",
          "height": 35
        },
        "id": "0mCCe-aMiBn7",
        "outputId": "c1be8054-9327-481b-fe36-1aaae81534df"
      },
      "source": [
        "kbbi['robek']"
      ],
      "execution_count": null,
      "outputs": [
        {
          "output_type": "execute_result",
          "data": {
            "application/vnd.google.colaboratory.intrinsic+json": {
              "type": "string"
            },
            "text/plain": [
              "'Adjektiva'"
            ]
          },
          "metadata": {
            "tags": []
          },
          "execution_count": 26
        }
      ]
    },
    {
      "cell_type": "code",
      "metadata": {
        "id": "bSO7YIYMh4t4"
      },
      "source": [
        "def verbposneg(text, kamuspos, kamusneg, kbbi_list):\n",
        "  f6 = []\n",
        "  f7 = []\n",
        "  for i in range(len(text)):\n",
        "    temp1 = 0\n",
        "    temp2 = 0\n",
        "    for n in text[i]:\n",
        "      if n in kbbi_list:\n",
        "        if kbbi_list[n] == 'Verba':\n",
        "          if n in kamuspos:\n",
        "            temp1 += 1\n",
        "          if n in kamusneg:\n",
        "            temp2 += 1\n",
        "    f6.append(temp1)\n",
        "    f7.append(temp2)\n",
        "  return f6,f7"
      ],
      "execution_count": null,
      "outputs": []
    },
    {
      "cell_type": "code",
      "metadata": {
        "id": "AbLP9EUfivSS"
      },
      "source": [
        "def advposneg(text, kamuspos, kamusneg, kbbi_list):\n",
        "  f8 = []\n",
        "  f9 = []\n",
        "  for i in range(len(text)):\n",
        "    temp1 = 0\n",
        "    temp2 = 0\n",
        "    for n in text[i]:\n",
        "      if n in kbbi_list:\n",
        "        if kbbi_list[n] == 'Adverbia':\n",
        "          if n in kamuspos:\n",
        "            temp1 += 1\n",
        "          if n in kamusneg:\n",
        "            temp2 += 1\n",
        "    f8.append(temp1)\n",
        "    f9.append(temp2)\n",
        "  return f8,f9"
      ],
      "execution_count": null,
      "outputs": []
    },
    {
      "cell_type": "code",
      "metadata": {
        "id": "2VGRTdPfktn3"
      },
      "source": [
        "def adjpercen(text, f2, f3, f4, f5):\n",
        "  f10 = []\n",
        "  f11 = []\n",
        "  for i in range(len(text)):\n",
        "    temp1 = 0\n",
        "    temp2 = 0\n",
        "    if f4[i] > 0:\n",
        "      temp1 = f4[i]/f2[i]\n",
        "    if f5[i] > 0:\n",
        "      temp2 = f5[i]/f3[i]\n",
        "    f10.append(temp1)\n",
        "    f11.append(temp2)\n",
        "  return f10,f11\n"
      ],
      "execution_count": null,
      "outputs": []
    },
    {
      "cell_type": "code",
      "metadata": {
        "id": "yFiZZRh8mSGk"
      },
      "source": [
        "def verbpercen(text, f2, f3, f6, f7):\n",
        "  f12 = []\n",
        "  f13 = []\n",
        "  for i in range(len(text)):\n",
        "    temp1 = 0\n",
        "    temp2 = 0\n",
        "    if f6[i] > 0:\n",
        "      temp1 = f6[i]/f2[i]\n",
        "    if f7[i] > 0:\n",
        "      temp2 = f7[i]/f3[i]\n",
        "    f12.append(temp1)\n",
        "    f13.append(temp2)\n",
        "  return f12,f13\n"
      ],
      "execution_count": null,
      "outputs": []
    },
    {
      "cell_type": "code",
      "metadata": {
        "id": "DWx_3lJ4nC-G"
      },
      "source": [
        "def advpercen(text, f2, f3, f8, f9):\n",
        "  f14 = []\n",
        "  f15 = []\n",
        "  for i in range(len(text)):\n",
        "    temp1 = 0\n",
        "    temp2 = 0\n",
        "    if f8[i] > 0:\n",
        "      temp1 = f8[i]/f2[i]\n",
        "    if f9[i] > 0:\n",
        "      temp2 = f9[i]/f3[i]\n",
        "    f14.append(temp1)\n",
        "    f15.append(temp2)\n",
        "  return f14,f15"
      ],
      "execution_count": null,
      "outputs": []
    },
    {
      "cell_type": "code",
      "metadata": {
        "id": "XH3oh5KHn2W2"
      },
      "source": [
        "def lexicon(text, boosterword, kamuspos, kamusneg, kbbi):\n",
        "  fiturlex = []\n",
        "  f1 = booster(text, boosterword)\n",
        "  fiturlex.append(f1)\n",
        "  f2,f3 = posneg(text, kamuspos, kamusneg)\n",
        "  fiturlex.extend((f2, f3))\n",
        "  f4,f5 = adjposneg(text, kamuspos, kamusneg,kbbi)\n",
        "  fiturlex.extend((f4, f5))\n",
        "  f6,f7 = verbposneg(text, kamuspos, kamusneg, kbbi)\n",
        "  fiturlex.extend((f6, f7))\n",
        "  f8,f9 = advposneg(text, kamuspos, kamusneg, kbbi)\n",
        "  fiturlex.extend((f8, f9))\n",
        "  f10,f11 = adjpercen(text, f2, f3, f4, f5)\n",
        "  fiturlex.extend((f10, f11))\n",
        "  f12,f13 = verbpercen(text, f2, f3, f6, f7)\n",
        "  fiturlex.extend((f12, f13))\n",
        "  f14,f15 = advpercen(text, f2, f3, f8, f9)\n",
        "  fiturlex.extend((f14, f15))\n",
        "  return fiturlex"
      ],
      "execution_count": null,
      "outputs": []
    },
    {
      "cell_type": "code",
      "metadata": {
        "id": "nCQVnPEPBmQN"
      },
      "source": [
        "fiturlex = lexicon(doc_tweet, boosterwords, kamuspos, kamusneg, kbbi)"
      ],
      "execution_count": null,
      "outputs": []
    },
    {
      "cell_type": "code",
      "metadata": {
        "colab": {
          "base_uri": "https://localhost:8080/"
        },
        "id": "FdeFL8lfH_zV",
        "outputId": "4602300e-381e-4ff2-8aa8-22d7f4af0c7d"
      },
      "source": [
        "len(fiturlex[0])"
      ],
      "execution_count": null,
      "outputs": [
        {
          "output_type": "execute_result",
          "data": {
            "text/plain": [
              "337"
            ]
          },
          "metadata": {
            "tags": []
          },
          "execution_count": 38
        }
      ]
    },
    {
      "cell_type": "code",
      "metadata": {
        "id": "1OOkUqlgCc1j"
      },
      "source": [
        "gabungbobot = tfidff + fiturlex"
      ],
      "execution_count": null,
      "outputs": []
    },
    {
      "cell_type": "code",
      "metadata": {
        "id": "Z-WK6vfmDLH1"
      },
      "source": [
        "dff = pd.DataFrame(tfidff)"
      ],
      "execution_count": null,
      "outputs": []
    },
    {
      "cell_type": "code",
      "metadata": {
        "colab": {
          "base_uri": "https://localhost:8080/"
        },
        "id": "fyCc_UVmhlwJ",
        "outputId": "373ac523-4bf6-4981-e8f0-e231ac2f1243"
      },
      "source": [
        "tesarray = dff.to_numpy()"
      ],
      "execution_count": null,
      "outputs": [
        {
          "output_type": "stream",
          "text": [
            "<class 'pandas.core.frame.DataFrame'>\n",
            "RangeIndex: 2134 entries, 0 to 2133\n",
            "Columns: 312 entries, 0 to 311\n",
            "dtypes: float64(312)\n",
            "memory usage: 5.1 MB\n"
          ],
          "name": "stdout"
        }
      ]
    },
    {
      "cell_type": "code",
      "metadata": {
        "id": "D4dATNfAhp7F"
      },
      "source": [
        "dff.to_excel('bobot.xlsx', index=False, header=False)"
      ],
      "execution_count": null,
      "outputs": []
    },
    {
      "cell_type": "code",
      "metadata": {
        "colab": {
          "base_uri": "https://localhost:8080/",
          "height": 17
        },
        "id": "-sMWP7jagA_e",
        "outputId": "72c4a1df-387f-47d7-9313-8aae15974fff"
      },
      "source": [
        "from google.colab import files\n",
        "files.download('bobot.xlsx') "
      ],
      "execution_count": null,
      "outputs": [
        {
          "output_type": "display_data",
          "data": {
            "application/javascript": [
              "\n",
              "    async function download(id, filename, size) {\n",
              "      if (!google.colab.kernel.accessAllowed) {\n",
              "        return;\n",
              "      }\n",
              "      const div = document.createElement('div');\n",
              "      const label = document.createElement('label');\n",
              "      label.textContent = `Downloading \"${filename}\": `;\n",
              "      div.appendChild(label);\n",
              "      const progress = document.createElement('progress');\n",
              "      progress.max = size;\n",
              "      div.appendChild(progress);\n",
              "      document.body.appendChild(div);\n",
              "\n",
              "      const buffers = [];\n",
              "      let downloaded = 0;\n",
              "\n",
              "      const channel = await google.colab.kernel.comms.open(id);\n",
              "      // Send a message to notify the kernel that we're ready.\n",
              "      channel.send({})\n",
              "\n",
              "      for await (const message of channel.messages) {\n",
              "        // Send a message to notify the kernel that we're ready.\n",
              "        channel.send({})\n",
              "        if (message.buffers) {\n",
              "          for (const buffer of message.buffers) {\n",
              "            buffers.push(buffer);\n",
              "            downloaded += buffer.byteLength;\n",
              "            progress.value = downloaded;\n",
              "          }\n",
              "        }\n",
              "      }\n",
              "      const blob = new Blob(buffers, {type: 'application/binary'});\n",
              "      const a = document.createElement('a');\n",
              "      a.href = window.URL.createObjectURL(blob);\n",
              "      a.download = filename;\n",
              "      div.appendChild(a);\n",
              "      a.click();\n",
              "      div.remove();\n",
              "    }\n",
              "  "
            ],
            "text/plain": [
              "<IPython.core.display.Javascript object>"
            ]
          },
          "metadata": {
            "tags": []
          }
        },
        {
          "output_type": "display_data",
          "data": {
            "application/javascript": [
              "download(\"download_b73c9830-f559-4c2a-b535-6af91c95864b\", \"bobot.xlsx\", 1289011)"
            ],
            "text/plain": [
              "<IPython.core.display.Javascript object>"
            ]
          },
          "metadata": {
            "tags": []
          }
        }
      ]
    },
    {
      "cell_type": "markdown",
      "metadata": {
        "id": "A79XT_j5BRiX"
      },
      "source": [
        "#SUPPORT VECTOR MACHINE\n"
      ]
    },
    {
      "cell_type": "code",
      "metadata": {
        "id": "vfdtO6K02F9F"
      },
      "source": [
        "kelasdoc =[]\n",
        "\n",
        "for row in range(len(df)):\n",
        "  kelasdoc.append(df.Class[row])"
      ],
      "execution_count": null,
      "outputs": []
    },
    {
      "cell_type": "code",
      "metadata": {
        "id": "ztpJBMSOmAcQ"
      },
      "source": [
        "kelastes =[]\n",
        "\n",
        "for row in range(len(df1)):\n",
        "  kelastes.append(df1.Class[row])"
      ],
      "execution_count": null,
      "outputs": []
    },
    {
      "cell_type": "code",
      "metadata": {
        "id": "jEj9Xf08-N81"
      },
      "source": [
        "dff = pd.read_excel('../../bobot.xlsx', header=None)"
      ],
      "execution_count": null,
      "outputs": []
    },
    {
      "cell_type": "code",
      "metadata": {
        "id": "Tun51hnI-ROt"
      },
      "source": [
        "tesarray = dff.to_numpy()"
      ],
      "execution_count": null,
      "outputs": []
    },
    {
      "cell_type": "code",
      "metadata": {
        "id": "3VvyZYxxBhjB"
      },
      "source": [
        "def kernelLinear(matriks):\n",
        "  #np.dot (matriks[k],matriks[i])\n",
        "  kernel = []\n",
        "  for i in range(len(matriks[0])):\n",
        "    temp = []\n",
        "    for j in range(len(matriks[i])):\n",
        "      jumlah =0\n",
        "      for k in range(len(matriks)):\n",
        "        jumlah += matriks[k][j]*matriks[k][i]\n",
        "      temp.append(jumlah)\n",
        "    kernel.append(temp)\n",
        "  return kernel\n"
      ],
      "execution_count": null,
      "outputs": []
    },
    {
      "cell_type": "code",
      "metadata": {
        "id": "cxj1y9t1D2sq"
      },
      "source": [
        "liner = kernelLinear(gabungbobot)"
      ],
      "execution_count": null,
      "outputs": []
    },
    {
      "cell_type": "code",
      "metadata": {
        "id": "KYpia9ZIGes0"
      },
      "source": [
        "def kernelPolynom(matriks,d):\n",
        "  #np.dot (matriks[k],matriks[i])\n",
        "  kernel = []\n",
        "  for i in range(len(matriks[0])):\n",
        "    temp = []\n",
        "    for j in range(len(matriks[i])):\n",
        "      jumlah =0\n",
        "      for k in range(len(matriks)):\n",
        "        jumlah += matriks[k][j]*matriks[k][i]\n",
        "      kerneli = (jumlah+1)**d\n",
        "      temp.append(kerneli)\n",
        "    kernel.append(temp)\n",
        "  return kernel\n"
      ],
      "execution_count": null,
      "outputs": []
    },
    {
      "cell_type": "code",
      "metadata": {
        "id": "JYSh9L452BiW"
      },
      "source": [
        "def kernelRBF(matriks, sigma):\n",
        "  #exp(-gamma * linalg.norm(matriks[j]-matriks[i]) ** 2)\n",
        "  kernel = []\n",
        "  for i in range(len(matriks[0])):\n",
        "    temp = []\n",
        "    for j in range(len(matriks[i])):\n",
        "      jumlah =0\n",
        "      for k in range(len(matriks)):\n",
        "        jumlah += math.pow(matriks[k][j]-matriks[k][i],2)\n",
        "      kerneli = math.exp((-1*(jumlah))/(2* (math.pow(sigma,2))))\n",
        "      temp.append(kerneli)\n",
        "    kernel.append(temp)\n",
        "  return kernel\n"
      ],
      "execution_count": null,
      "outputs": []
    },
    {
      "cell_type": "code",
      "metadata": {
        "id": "J0-v29DM-H-J"
      },
      "source": [
        "rbf = kernelRBF(tesarray,5)"
      ],
      "execution_count": null,
      "outputs": []
    },
    {
      "cell_type": "code",
      "metadata": {
        "id": "JIOAbcIR2HO5"
      },
      "source": [
        "def hessian(kernel, kelas, lambdaval):\n",
        "  matrikshessian = []\n",
        "  for i in range(len(kelas)):\n",
        "    temp = []\n",
        "    for j in range(len(kelas)):\n",
        "      hasil = (kelas[i]*kelas[j])*((kernel[i][j])+(math.pow(lambdaval,2)))\n",
        "      temp.append(hasil)\n",
        "    matrikshessian.append(temp)\n",
        "  return matrikshessian\n"
      ],
      "execution_count": null,
      "outputs": []
    },
    {
      "cell_type": "code",
      "metadata": {
        "id": "H9qoA0Pn2JSI"
      },
      "source": [
        "mh = hessian(liner, kelasdoc, 2)"
      ],
      "execution_count": null,
      "outputs": []
    },
    {
      "cell_type": "code",
      "metadata": {
        "id": "vDaYfv6T2Jug"
      },
      "source": [
        "def seq_training(hessian, imax, gamma, varC, varE):\n",
        "  alpha = []\n",
        "  deltaalpha = []\n",
        "  E = []\n",
        "  temp_alpha = []\n",
        "  for i in range(len(hessian)):\n",
        "    temp_alpha.append(0)\n",
        "  alpha.append(temp_alpha)\n",
        "\n",
        "  for i in range(imax):\n",
        "    temp_E = []\n",
        "    temp_delta = []\n",
        "    temp_alpha = []\n",
        "    \n",
        "    for j in range(len(hessian)):\n",
        "      jml = 0\n",
        "      for k in range(len(hessian[j])):\n",
        "        jml = jml + alpha[-1][j] * hessian[j][k]\n",
        "      temp_E.append(jml)\n",
        "    E.append(temp_E)\n",
        "\n",
        "    for l in range(len(hessian)):\n",
        "      hasil = min(max((gamma*(1-E[-1][l])), (-1*alpha[-1][l])), (varC-alpha[-1][l]))\n",
        "      temp_delta.append(hasil)\n",
        "    deltaalpha.append(temp_delta)\n",
        "\n",
        "    for m in range(len(temp_delta)):\n",
        "      hasil = alpha[-1][m] + deltaalpha[-1][m]\n",
        "      temp_alpha.append(hasil)\n",
        "    alpha.append(temp_alpha)\n",
        "\n",
        "    if(max(temp_delta)<varE):\n",
        "      break\n",
        "\n",
        "  return alpha[-1]"
      ],
      "execution_count": null,
      "outputs": []
    },
    {
      "cell_type": "code",
      "metadata": {
        "id": "gHcw7zU42MC1"
      },
      "source": [
        "alpha = seq_training(mh, 5, 0.001, 1, 0.0001)  "
      ],
      "execution_count": null,
      "outputs": []
    },
    {
      "cell_type": "code",
      "metadata": {
        "id": "ewC2TW852O5W"
      },
      "source": [
        "def bias(supportvector, kelas, kernel):\n",
        "  xPos = 0\n",
        "  xNeg = 0\n",
        "  for i in range(len(kelas)):\n",
        "    if kelas[i] == 1:\n",
        "      xPos = max(xPos, supportvector[i])\n",
        "    else:\n",
        "      xNeg = max(xNeg, supportvector[i])\n",
        "  alphaPos = supportvector.index(xPos)\n",
        "  alphaNeg = supportvector.index(xNeg)\n",
        "  sigmaPos = 0\n",
        "  sigmaNeg = 0\n",
        "  kernelPos = []\n",
        "  kernelNeg = []\n",
        "\n",
        "  for i in range(len(kelas)):\n",
        "    temp_kernelPos = []\n",
        "    temp_kernelNeg =[]\n",
        "\n",
        "    for j in range(len(kernel[i])):\n",
        "      pos = kernel[j][alphaPos]\n",
        "      neg = kernel[j][alphaNeg]\n",
        "      temp_kernelPos.append(pos)\n",
        "      temp_kernelNeg.append(neg)\n",
        "      \n",
        "    kernelPos = temp_kernelPos\n",
        "    kernelNeg = temp_kernelNeg\n",
        "    hasilPos = supportvector[i]*kelas[i]*kernelPos[i]\n",
        "    hasilNeg = supportvector[i]*kelas[i]*kernelNeg[i]\n",
        "    sigmaPos= sigmaPos + hasilPos\n",
        "    sigmaNeg= sigmaNeg + hasilNeg\n",
        "  bias = -0.5*(sigmaPos+sigmaNeg)\n",
        "  return bias\n"
      ],
      "execution_count": null,
      "outputs": []
    },
    {
      "cell_type": "code",
      "metadata": {
        "id": "niK-XnR92QIh"
      },
      "source": [
        "biaz = bias(alpha, kelasdoc, liner)"
      ],
      "execution_count": null,
      "outputs": []
    },
    {
      "cell_type": "code",
      "metadata": {
        "id": "X_Kh5GoU2Ru3"
      },
      "source": [
        "def testing(kernel, kelas, alpha, bias):\n",
        "  kelasuji = []\n",
        "  sigma = []\n",
        "\n",
        "  for i in range(len(kelas),len(kernel)):\n",
        "    ## kelas-kernel\n",
        "    jml = 0\n",
        "    for j in range(len(kelas)):\n",
        "      jml = jml +  (kernel[i][j] * kelas[j] * alpha[j])\n",
        "    sigma.append(jml)\n",
        "  \n",
        "  for i in range(len(sigma)):\n",
        "    if sigma[i]+bias >=0:\n",
        "      kelas = 1\n",
        "    else:\n",
        "      kelas = -1\n",
        "    kelasuji.append(kelas)\n",
        "\n",
        "  return kelasuji"
      ],
      "execution_count": null,
      "outputs": []
    },
    {
      "cell_type": "code",
      "metadata": {
        "id": "sBr9-7Vk2S6R"
      },
      "source": [
        "ujites = testing(liner, kelasdoc, alpha, biaz)"
      ],
      "execution_count": null,
      "outputs": []
    },
    {
      "cell_type": "code",
      "metadata": {
        "colab": {
          "base_uri": "https://localhost:8080/",
          "height": 111
        },
        "id": "V15MfduNGB9t",
        "outputId": "938eb9b9-ea5b-439b-d25b-b9967b30011b"
      },
      "source": [
        "new_df = pd.DataFrame({'Class': ujites})\n",
        "df1.update(new_df)\n",
        "df1"
      ],
      "execution_count": null,
      "outputs": [
        {
          "output_type": "execute_result",
          "data": {
            "text/html": [
              "<div>\n",
              "<style scoped>\n",
              "    .dataframe tbody tr th:only-of-type {\n",
              "        vertical-align: middle;\n",
              "    }\n",
              "\n",
              "    .dataframe tbody tr th {\n",
              "        vertical-align: top;\n",
              "    }\n",
              "\n",
              "    .dataframe thead th {\n",
              "        text-align: right;\n",
              "    }\n",
              "</style>\n",
              "<table border=\"1\" class=\"dataframe\">\n",
              "  <thead>\n",
              "    <tr style=\"text-align: right;\">\n",
              "      <th></th>\n",
              "      <th>tweet_text</th>\n",
              "      <th>Class</th>\n",
              "    </tr>\n",
              "  </thead>\n",
              "  <tbody>\n",
              "    <tr>\n",
              "      <th>0</th>\n",
              "      <td>presiden @Jokowi mengatakan dalam keberagaman ...</td>\n",
              "      <td>1</td>\n",
              "    </tr>\n",
              "    <tr>\n",
              "      <th>1</th>\n",
              "      <td>Nak SD aja paham ini UU sampah. Pak @jokowi ot...</td>\n",
              "      <td>-1</td>\n",
              "    </tr>\n",
              "  </tbody>\n",
              "</table>\n",
              "</div>"
            ],
            "text/plain": [
              "                                          tweet_text  Class\n",
              "0  presiden @Jokowi mengatakan dalam keberagaman ...      1\n",
              "1  Nak SD aja paham ini UU sampah. Pak @jokowi ot...     -1"
            ]
          },
          "metadata": {
            "tags": []
          },
          "execution_count": 87
        }
      ]
    },
    {
      "cell_type": "code",
      "metadata": {
        "id": "QF3TJZCRHeBm"
      },
      "source": [
        "def ValConf(predict, actual):\n",
        "  TP = 0\n",
        "  FN = 0\n",
        "  FP = 0\n",
        "  TN = 0\n",
        "  for i in range(len(actual)):\n",
        "    if actual[i] == predict[i]:\n",
        "\n",
        "      if actual[i] == -1:\n",
        "        TP +=1\n",
        "      else:\n",
        "        TN += 1\n",
        "\n",
        "    else:\n",
        "\n",
        "      if actual[i] == -1:\n",
        "        FN +=1\n",
        "      else: \n",
        "        FP +=1\n",
        "\n",
        "  return TP, FN, FP, TN"
      ],
      "execution_count": null,
      "outputs": []
    },
    {
      "cell_type": "code",
      "metadata": {
        "id": "R-ge2TqvKmIS"
      },
      "source": [
        "def eval(TP, FN, FP, TN):\n",
        "  accuracy = ((TP+TN)/(TP+FN+FP+TN))*100\n",
        "  if TP+FN >0:\n",
        "    recall = TP/(TP+FN)\n",
        "  else:\n",
        "    recall = 0\n",
        "  if TP+FP >0:\n",
        "    precision = TP/(TP+FP)\n",
        "  else: \n",
        "    precision = 0\n",
        "  if precision+recall>0:\n",
        "    fmeasure = 2* ((precision*recall)/(precision+recall))\n",
        "  else:\n",
        "    fmeasure =0\n",
        "  return accuracy, precision, recall, fmeasure"
      ],
      "execution_count": null,
      "outputs": []
    },
    {
      "cell_type": "code",
      "metadata": {
        "id": "X4I-xSBi2yd1"
      },
      "source": [
        "def svm(kernel):\n",
        "  lambdaval = 0.5\n",
        "  imax = 50\n",
        "  gamma = 0.001\n",
        "  varC = 1\n",
        "  varE = 0.001\n",
        "  mh = hessian(kernel, kelasdoc, lambdaval)\n",
        "  alpha = seq_training(mh, imax, gamma, varC, varE)\n",
        "  biaz = bias(alpha, kelasdoc, kernel)\n",
        "  ujites = testing(kernel, kelasdoc, alpha, biaz)\n",
        "  tp, fn, fp, tn = ValConf(ujites, kelastes)\n",
        "  acc, preci, rec, fm = eval(tp, fn, fp, tn)\n",
        "  return acc, preci, rec, fm"
      ],
      "execution_count": null,
      "outputs": []
    },
    {
      "cell_type": "code",
      "metadata": {
        "colab": {
          "base_uri": "https://localhost:8080/"
        },
        "id": "X6xt_mZDFswu",
        "outputId": "c18c1185-b055-4628-bd90-31cf5198d387"
      },
      "source": [
        "acc, preci, rec, fm = svm(rbf)\n",
        "acc, preci, rec, fm"
      ],
      "execution_count": null,
      "outputs": [
        {
          "output_type": "execute_result",
          "data": {
            "text/plain": [
              "(75.49019607843137, 0.9117647058823529, 0.5849056603773585, 0.7126436781609194)"
            ]
          },
          "metadata": {
            "tags": []
          },
          "execution_count": 21
        }
      ]
    },
    {
      "cell_type": "code",
      "metadata": {
        "id": "kv8AIHs7V24G"
      },
      "source": [
        "def main():\n",
        "  hasiltrain = preprocessing(train)\n",
        "  hasiltest = preprocessing(test)\n",
        "  bobottfidf = tfidf(hasiltrain, hasiltest)\n",
        "  bobotlex = lexicon(doc_tweet, boosterwords, kamuspos, kamusneg, kbbi)\n",
        "  bobot = bobottfidf + bobotlex\n",
        "  liner = kernelLinear(bobot)\n",
        "  acc, preci, rec, fm = svm(liner)\n",
        "  return acc, preci, rec, fm"
      ],
      "execution_count": null,
      "outputs": []
    }
  ]
}